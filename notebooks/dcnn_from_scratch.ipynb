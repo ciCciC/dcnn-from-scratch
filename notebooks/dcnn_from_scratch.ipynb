{
 "cells": [
  {
   "cell_type": "markdown",
   "source": [
    "# Deep Convolutional Neural Network - from scratch\n",
    "\n",
    "#### (c) Koray Poyraz\n",
    "\n",
    "TODO:\n",
    "- Derivative function of Cross Entropy\n",
    "- Bgerror for the reversed L-1 layer\n"
   ],
   "metadata": {
    "collapsed": false,
    "pycharm": {
     "name": "#%% md\n"
    }
   }
  },
  {
   "cell_type": "code",
   "execution_count": 1,
   "metadata": {
    "pycharm": {
     "name": "#%%\n"
    }
   },
   "outputs": [],
   "source": [
    "from tensorflow import keras\n",
    "import numpy as np\n",
    "import matplotlib.pyplot as plt"
   ]
  },
  {
   "cell_type": "code",
   "execution_count": null,
   "metadata": {
    "pycharm": {
     "name": "#%%\n"
    }
   },
   "outputs": [],
   "source": []
  },
  {
   "cell_type": "markdown",
   "metadata": {
    "pycharm": {
     "name": "#%% md\n"
    }
   },
   "source": [
    "# Convolution\n",
    "\n",
    "- filter - threshold - max pooling - normalisation"
   ]
  },
  {
   "cell_type": "code",
   "execution_count": 2,
   "metadata": {
    "pycharm": {
     "name": "#%%\n"
    }
   },
   "outputs": [],
   "source": [
    "# black and white images\n",
    "# (x_train, y_train), (x_test, y_test) = keras.datasets.mnist.load_data()\n",
    "# input_shape = (28, 28, 1)\n",
    "\n",
    "# colored images\n",
    "(x_train, y_train), (x_test, y_test) = keras.datasets.cifar10.load_data()\n",
    "\n",
    "x_train = x_train.astype(\"float32\") / 255\n",
    "x_test = x_test.astype(\"float32\") / 255"
   ]
  },
  {
   "cell_type": "code",
   "execution_count": 4,
   "metadata": {
    "pycharm": {
     "name": "#%%\n"
    }
   },
   "outputs": [
    {
     "name": "stdout",
     "output_type": "stream",
     "text": [
      "I think its a horse\n"
     ]
    },
    {
     "data": {
      "image/png": "[encoded data removed]",
      "text/plain": [
       "<Figure size 432x288 with 1 Axes>"
      ]
     },
     "metadata": {
      "needs_background": "light"
     },
     "output_type": "display_data"
    }
   ],
   "source": [
    "test_image = x_test[20]\n",
    "\n",
    "input_shape = test_image.shape\n",
    "filter_size = (3, 3)\n",
    "\n",
    "print('I think its a horse')\n",
    "plt.imshow(test_image);"
   ]
  },
  {
   "cell_type": "code",
   "execution_count": 122,
   "metadata": {
    "pycharm": {
     "name": "#%%\n"
    }
   },
   "outputs": [],
   "source": [
    "filter_vertical_edge = np.array([\n",
    "    [-1, 1, 0],\n",
    "    [-2, 1, 0],\n",
    "    [-1, 1, 0]])\n",
    "\n",
    "filter_horizontal_edge = np.array([\n",
    "    [-1, -2, -1],\n",
    "    [0, 0, 0],\n",
    "    [1, 2, 1]])\n",
    "\n",
    "\n",
    "def conv_multi(source_pixels, filter_pixels):\n",
    "    # apply multiplication stuff incl. sum\n",
    "    return np.sum(np.multiply(source_pixels, filter_pixels))\n",
    "\n",
    "\n",
    "def convolution_operation(image, input_shape, filters, kernel_size=(3, 3)):\n",
    "    # apply convolution operation to 1 image with n filters and n filter size (aka kernel size)\n",
    "    if filters is None:\n",
    "        print('Please apply number of filters')\n",
    "        return\n",
    "\n",
    "    filter_output_size = input_shape[0]-kernel_size[0]+1\n",
    "\n",
    "    depth = input_shape[-1] if len(input_shape) > 2 else 1\n",
    "    boundary = kernel_size[0]\n",
    "\n",
    "    feature_maps = []\n",
    "\n",
    "    for filter_idx in range(0, len(filters)):\n",
    "        filter_pixels = filters[filter_idx]\n",
    "        feature_map = np.zeros((filter_output_size, filter_output_size))\n",
    "\n",
    "        for zy in range(0, filter_output_size):\n",
    "            for zx in range(0, filter_output_size):\n",
    "                source_pixels = 0\n",
    "                result = 0\n",
    "\n",
    "                if depth > 1:\n",
    "                    colors = []\n",
    "                    for z in range(0, depth):\n",
    "                        source_pixels = image[zy:boundary+zy, zx:boundary+zx, z]\n",
    "                        color_output = conv_multi(source_pixels, filter_pixels)\n",
    "                        colors.append(color_output)\n",
    "                    result = sum(colors)\n",
    "                else:\n",
    "                    source_pixels = image[zy:boundary+zy, zx:boundary+zx]\n",
    "                    result = conv_multi(source_pixels, filter_pixels)\n",
    "\n",
    "                feature_map[zy, zx] = result\n",
    "\n",
    "        feature_maps.append(feature_map)\n",
    "\n",
    "    return feature_maps\n",
    "\n",
    "\n",
    "def convolution_layer(images, input_shape, filters, kernel_size=(3, 3)):\n",
    "    # apply convolution layer to all images with n filters and n filter size (aka kernel size)\n",
    "    feature_maps_all_images = []\n",
    "\n",
    "    depth = images.shape[-1] > 4\n",
    "\n",
    "    for image in images:\n",
    "        feature_maps = []\n",
    "\n",
    "        if depth:\n",
    "            for feature_map in images[0]:\n",
    "                tmp_feature_maps = convolution_operation(feature_map, input_shape, filters, kernel_size)\n",
    "                feature_maps += tmp_feature_maps\n",
    "        else:\n",
    "            feature_maps = convolution_operation(image, input_shape, filters, kernel_size)\n",
    "\n",
    "        feature_maps_all_images.append(np.array(feature_maps))\n",
    "\n",
    "    return np.array(feature_maps_all_images)\n"
   ]
  },
  {
   "cell_type": "code",
   "execution_count": 123,
   "metadata": {
    "pycharm": {
     "name": "#%%\n"
    }
   },
   "outputs": [
    {
     "data": {
      "text/plain": [
       "(1, 2, 30, 30)"
      ]
     },
     "execution_count": 123,
     "metadata": {},
     "output_type": "execute_result"
    }
   ],
   "source": [
    "# for now we just use 1 image for testing and demonstration purposes\n",
    "feature_maps = convolution_layer(np.array([test_image]), input_shape, [filter_vertical_edge, filter_horizontal_edge], filter_size)\n",
    "feature_maps.shape"
   ]
  },
  {
   "cell_type": "code",
   "execution_count": 3,
   "metadata": {
    "pycharm": {
     "name": "#%%\n"
    }
   },
   "outputs": [],
   "source": [
    "def plot_process_step_image(images, title, figsize, cmap='viridis'):\n",
    "    fig, axs = plt.subplots(1, 3, figsize=figsize)\n",
    "    axs[0].set_title('filter_vertical_edge')\n",
    "    axs[0].imshow(images[0], cmap=cmap)\n",
    "    axs[1].set_title('filter_horizontal_edge')\n",
    "    axs[1].imshow(images[1], cmap=cmap)\n",
    "    axs[2].set_title('original image')\n",
    "    axs[2].imshow(images[2])\n",
    "    fig.suptitle(title)\n",
    "    fig.tight_layout()"
   ]
  },
  {
   "cell_type": "code",
   "execution_count": 125,
   "metadata": {
    "pycharm": {
     "name": "#%%\n"
    }
   },
   "outputs": [
    {
     "data": {
      "image/png": "[encoded data removed]",
      "text/plain": [
       "<Figure size 864x360 with 3 Axes>"
      ]
     },
     "metadata": {
      "needs_background": "light"
     },
     "output_type": "display_data"
    }
   ],
   "source": [
    "images = [feature_maps[0][0], feature_maps[0][1], test_image]\n",
    "plot_process_step_image(images, 'Convolution operation', (12, 5))"
   ]
  },
  {
   "cell_type": "code",
   "execution_count": 127,
   "metadata": {
    "pycharm": {
     "name": "#%%\n"
    }
   },
   "outputs": [],
   "source": [
    "test = convolution_layer(feature_maps, feature_maps[0][0].shape, [filter_vertical_edge, filter_horizontal_edge], filter_size)"
   ]
  },
  {
   "cell_type": "code",
   "execution_count": 128,
   "metadata": {
    "pycharm": {
     "name": "#%%\n"
    }
   },
   "outputs": [
    {
     "data": {
      "text/plain": [
       "(1, 4, 28, 28)"
      ]
     },
     "execution_count": 128,
     "metadata": {},
     "output_type": "execute_result"
    }
   ],
   "source": [
    "test.shape"
   ]
  },
  {
   "cell_type": "code",
   "execution_count": 129,
   "metadata": {
    "pycharm": {
     "name": "#%%\n"
    }
   },
   "outputs": [
    {
     "data": {
      "image/png": "[encoded data removed]",
      "text/plain": [
       "<Figure size 864x360 with 3 Axes>"
      ]
     },
     "metadata": {
      "needs_background": "light"
     },
     "output_type": "display_data"
    }
   ],
   "source": [
    "images = [test[0][0], test[0][1], test_image]\n",
    "plot_process_step_image(images, 'Convolution operation', (12, 5), cmap='Greys')"
   ]
  },
  {
   "cell_type": "code",
   "execution_count": 130,
   "metadata": {
    "pycharm": {
     "name": "#%%\n"
    }
   },
   "outputs": [
    {
     "data": {
      "image/png": "[encoded data removed]",
      "text/plain": [
       "<Figure size 864x360 with 3 Axes>"
      ]
     },
     "metadata": {
      "needs_background": "light"
     },
     "output_type": "display_data"
    }
   ],
   "source": [
    "images = [test[0][2], test[0][3], test_image]\n",
    "plot_process_step_image(images, 'Convolution operation', (12, 5), cmap='Greys')"
   ]
  },
  {
   "cell_type": "markdown",
   "metadata": {
    "pycharm": {
     "name": "#%% md\n"
    }
   },
   "source": [
    "Rectified linear (relu) activation over a whole feature map, with a maximum activation mimicking neuron firing rate\n"
   ]
  },
  {
   "cell_type": "code",
   "execution_count": 46,
   "metadata": {
    "pycharm": {
     "name": "#%%\n"
    }
   },
   "outputs": [],
   "source": [
    "def activation_relu(x, max_activation=None):\n",
    "    # ReLu activation function, max_activation is equal to the firing limit of a neuron\n",
    "    return max(0.0, x) if max_activation is None else min(max(0.0, x), max_activation)\n",
    "\n",
    "activation_relu_fn = np.vectorize(activation_relu)\n",
    "\n",
    "def activation(feature_maps, max_activation=None):\n",
    "    # apply ReLu on 1 image with n feature maps\n",
    "    return [activation_relu_fn(feature_map.flatten(), max_activation).reshape(feature_map.shape) for feature_map in feature_maps]\n",
    "\n",
    "def activation_layer(feature_maps_all_images, max_activation=None):\n",
    "    # apply ReLu on all images with n feature maps\n",
    "    return np.array([activation(feature_maps, max_activation) for feature_maps in feature_maps_all_images])"
   ]
  },
  {
   "cell_type": "code",
   "execution_count": 18,
   "metadata": {
    "pycharm": {
     "name": "#%%\n"
    }
   },
   "outputs": [
    {
     "data": {
      "text/plain": [
       "(1, 2, 30, 30)"
      ]
     },
     "execution_count": 18,
     "metadata": {},
     "output_type": "execute_result"
    }
   ],
   "source": [
    "activation_maps = activation_layer(feature_maps, 3)\n",
    "\n",
    "activation_maps.shape"
   ]
  },
  {
   "cell_type": "code",
   "execution_count": 19,
   "metadata": {
    "pycharm": {
     "name": "#%%\n"
    }
   },
   "outputs": [
    {
     "data": {
      "image/png": "[encoded data removed]",
      "text/plain": [
       "<Figure size 864x360 with 3 Axes>"
      ]
     },
     "metadata": {
      "needs_background": "light"
     },
     "output_type": "display_data"
    }
   ],
   "source": [
    "images = [activation_maps[0][0], activation_maps[0][1], test_image]\n",
    "plot_process_step_image(images, 'ReLu Threshold operation', (12, 5), cmap='Greys')"
   ]
  },
  {
   "cell_type": "markdown",
   "metadata": {
    "pycharm": {
     "name": "#%% md\n"
    }
   },
   "source": [
    "Max pooling, the spatial extent of the pooling"
   ]
  },
  {
   "cell_type": "code",
   "execution_count": 20,
   "metadata": {
    "pycharm": {
     "name": "#%%\n"
    }
   },
   "outputs": [],
   "source": [
    "def max_pooling(activation_maps, pooling_filter_size=2):\n",
    "    # apply max pooling on 1 image with n feature maps\n",
    "    pooling_maps = []\n",
    "\n",
    "    output_size = int(activation_maps.shape[-1]/pooling_filter_size)\n",
    "\n",
    "    for activation_map in activation_maps:\n",
    "        pooling_map = np.zeros((output_size, output_size))\n",
    "\n",
    "        for y in range(0, output_size):\n",
    "            for x in range(0, output_size):\n",
    "                activation_map_subpixels = activation_map[\n",
    "                                           y*pooling_filter_size:pooling_filter_size*(y+1),\n",
    "                                           x*pooling_filter_size:pooling_filter_size*(x+1)]\n",
    "                pooling_map[y,x] = activation_map_subpixels.max()\n",
    "\n",
    "        pooling_maps.append(pooling_map)\n",
    "    return np.array(pooling_maps)\n",
    "\n",
    "\n",
    "def max_pooling2d(activation_maps_all_images, pooling_size=2):\n",
    "    # apply max pooling on all image with n feature maps\n",
    "    return np.array([max_pooling(activation_maps, pooling_size) for activation_maps in activation_maps_all_images])"
   ]
  },
  {
   "cell_type": "code",
   "execution_count": 21,
   "metadata": {
    "pycharm": {
     "name": "#%%\n"
    }
   },
   "outputs": [
    {
     "data": {
      "text/plain": [
       "(1, 2, 15, 15)"
      ]
     },
     "execution_count": 21,
     "metadata": {},
     "output_type": "execute_result"
    }
   ],
   "source": [
    "pooling_maps = max_pooling2d(activation_maps, 2)\n",
    "pooling_maps.shape"
   ]
  },
  {
   "cell_type": "code",
   "execution_count": 22,
   "metadata": {
    "pycharm": {
     "name": "#%%\n"
    }
   },
   "outputs": [
    {
     "data": {
      "image/png": "[encoded data removed]",
      "text/plain": [
       "<Figure size 720x360 with 3 Axes>"
      ]
     },
     "metadata": {
      "needs_background": "light"
     },
     "output_type": "display_data"
    }
   ],
   "source": [
    "images = [pooling_maps[0][0], pooling_maps[0][1], test_image]\n",
    "plot_process_step_image(images, 'Max Pooling operation', figsize=(10, 5), cmap='Greys')"
   ]
  },
  {
   "cell_type": "markdown",
   "metadata": {
    "pycharm": {
     "name": "#%% md\n"
    }
   },
   "source": [
    "Normalisation"
   ]
  },
  {
   "cell_type": "code",
   "execution_count": 23,
   "metadata": {
    "pycharm": {
     "name": "#%%\n"
    }
   },
   "outputs": [],
   "source": [
    "def normalisation(pooling_maps):\n",
    "    # apply normalisation on 1 image with n feature maps\n",
    "    normalisation_maps = []\n",
    "\n",
    "    for pooling_map in pooling_maps:\n",
    "        tmp = pooling_map - pooling_map.mean()\n",
    "        normalised_map = tmp / pooling_map.std()\n",
    "        normalisation_maps.append(normalised_map)\n",
    "\n",
    "    return np.array(normalisation_maps)\n",
    "\n",
    "\n",
    "def normalisation2d(pooling_maps_all_images):\n",
    "    # apply normalisation on all image with n feature maps\n",
    "    return np.array([normalisation(pooling_maps) for pooling_maps in pooling_maps_all_images])"
   ]
  },
  {
   "cell_type": "code",
   "execution_count": 24,
   "metadata": {
    "pycharm": {
     "name": "#%%\n"
    }
   },
   "outputs": [
    {
     "data": {
      "text/plain": [
       "(1, 2, 15, 15)"
      ]
     },
     "execution_count": 24,
     "metadata": {},
     "output_type": "execute_result"
    }
   ],
   "source": [
    "normalisation_maps = normalisation2d(pooling_maps)\n",
    "normalisation_maps.shape"
   ]
  },
  {
   "cell_type": "code",
   "execution_count": 25,
   "metadata": {
    "pycharm": {
     "name": "#%%\n"
    }
   },
   "outputs": [
    {
     "data": {
      "image/png": "[encoded data removed]",
      "text/plain": [
       "<Figure size 720x360 with 3 Axes>"
      ]
     },
     "metadata": {
      "needs_background": "light"
     },
     "output_type": "display_data"
    }
   ],
   "source": [
    "images = [normalisation_maps[0][0], normalisation_maps[0][1], test_image]\n",
    "plot_process_step_image(images, 'Normalisation mean:0 and std:1 operation', figsize=(10, 5), cmap='Greys')"
   ]
  },
  {
   "cell_type": "code",
   "execution_count": 26,
   "metadata": {
    "pycharm": {
     "name": "#%%\n"
    }
   },
   "outputs": [
    {
     "name": "stdout",
     "output_type": "stream",
     "text": [
      "Vertical edge\n"
     ]
    },
    {
     "data": {
      "image/png": "[encoded data removed]",
      "text/plain": [
       "<Figure size 432x288 with 1 Axes>"
      ]
     },
     "metadata": {
      "needs_background": "light"
     },
     "output_type": "display_data"
    }
   ],
   "source": [
    "print('Vertical edge')\n",
    "plt.hist(normalisation_maps[0][0].flatten())\n",
    "plt.show()"
   ]
  },
  {
   "cell_type": "code",
   "execution_count": 27,
   "metadata": {
    "pycharm": {
     "name": "#%%\n"
    }
   },
   "outputs": [
    {
     "name": "stdout",
     "output_type": "stream",
     "text": [
      "Horizontal edge\n"
     ]
    },
    {
     "data": {
      "image/png": "[encoded data removed]",
      "text/plain": [
       "<Figure size 432x288 with 1 Axes>"
      ]
     },
     "metadata": {
      "needs_background": "light"
     },
     "output_type": "display_data"
    }
   ],
   "source": [
    "print('Horizontal edge')\n",
    "plt.hist(normalisation_maps[0][1].flatten())\n",
    "plt.show()"
   ]
  },
  {
   "cell_type": "markdown",
   "metadata": {
    "pycharm": {
     "name": "#%% md\n"
    }
   },
   "source": [
    "Flattening + Fully-connected layer"
   ]
  },
  {
   "cell_type": "code",
   "execution_count": 20,
   "metadata": {
    "pycharm": {
     "name": "#%%\n"
    }
   },
   "outputs": [],
   "source": [
    "def flatten_layer(feature_maps_all_images):\n",
    "    # for flattening the feature maps\n",
    "    return np.array([feature_maps.flatten() for feature_maps in feature_maps_all_images])\n",
    "\n",
    "\n",
    "def activation_fully_connect_layer(flatten_input_neurons_all_images, max_activation=3):\n",
    "    # After flattening and fully connection we apply ReLu for activation\n",
    "    return np.array([activation_relu_fn(input_neurons, max_activation) for input_neurons in flatten_input_neurons_all_images])\n",
    "\n",
    "\n",
    "def fully_connect(input_flat_feature_map, output_neurons):\n",
    "    # apply fully connect layer on 1 image with flattened feature map and calc weights (random) and bias (random)\n",
    "    weights = np.random.rand(len(input_flat_feature_map), output_neurons) - 0.5\n",
    "    bias = np.random.rand(1, output_neurons) - 0.5\n",
    "    output = np.dot(input_flat_feature_map, weights) + bias\n",
    "    return output\n",
    "\n",
    "\n",
    "def fully_connect_layer(input_flatten_feature_map_all_images, output_neurons):\n",
    "    # apply fully connect layer on all image with flattened n feature maps and calc weights (random) and bias (random)\n",
    "    return np.array([fully_connect(flat_feature_map, output_neurons)[0] for flat_feature_map in input_flatten_feature_map_all_images])\n"
   ]
  },
  {
   "cell_type": "code",
   "execution_count": 21,
   "metadata": {
    "pycharm": {
     "name": "#%%\n"
    }
   },
   "outputs": [
    {
     "name": "stdout",
     "output_type": "stream",
     "text": [
      "Flatten shape: (1, 450)\n",
      "Fully connected 1st layer shape: (1, 128)\n",
      "ReLu activation 1st layer shape: (1, 128)\n"
     ]
    }
   ],
   "source": [
    "# here we first flat the feature maps\n",
    "flattened_layer = flatten_layer(normalisation_maps)\n",
    "\n",
    "# then apply the flat as input for the full connection with eg 128 output neurons\n",
    "fully_connected = fully_connect_layer(flattened_layer, output_neurons=128)\n",
    "\n",
    "# then apply ReLu activation on the fully connected layer\n",
    "activation_fully_connected = activation_fully_connect_layer(fully_connected, max_activation=3)\n",
    "\n",
    "# dimensions\n",
    "print(f'Flatten shape: {flattened_layer.shape}')\n",
    "print(f'Fully connected 1st layer shape: {fully_connected.shape}')\n",
    "print(f'ReLu activation 1st layer shape: {activation_fully_connected.shape}')"
   ]
  },
  {
   "cell_type": "markdown",
   "metadata": {
    "pycharm": {
     "name": "#%% md\n"
    }
   },
   "source": [
    "Algorithmic expression of a softmax (normalised exponential) function"
   ]
  },
  {
   "cell_type": "code",
   "execution_count": 61,
   "metadata": {
    "pycharm": {
     "name": "#%%\n"
    }
   },
   "outputs": [],
   "source": [
    "def softmax(input_activations):\n",
    "    # here we apply the softmax activation function within the output layer of the neural network\n",
    "    numerator = np.exp(input_activations)\n",
    "    denominator = np.sum(np.exp(input_activations))\n",
    "    softmax_output = numerator/denominator\n",
    "    return softmax_output\n",
    "\n",
    "def softmax_layer(input_activations_all_images):\n",
    "    # image X classes\n",
    "    return np.array([softmax(input_activation) for input_activation in input_activations_all_images])"
   ]
  },
  {
   "cell_type": "code",
   "execution_count": 28,
   "metadata": {
    "pycharm": {
     "name": "#%%\n"
    }
   },
   "outputs": [],
   "source": [
    "# then apply the flat as input for the full connection with eg 128 output neurons\n",
    "classes = 10\n",
    "output_layer_fully_connected = fully_connect_layer(activation_fully_connected, output_neurons=classes)\n",
    "softmax_results = softmax_layer(output_layer_fully_connected)\n",
    "\n",
    "# get 1 image\n",
    "one_image = softmax_results[0]\n",
    "chosen_class = np.argmax(one_image)"
   ]
  },
  {
   "cell_type": "code",
   "execution_count": 29,
   "metadata": {
    "pycharm": {
     "name": "#%%\n"
    }
   },
   "outputs": [
    {
     "name": "stdout",
     "output_type": "stream",
     "text": [
      "Predicted class: 8\n",
      "All probability:\n"
     ]
    },
    {
     "data": {
      "text/plain": [
       "array([[1.81269249e-02, 3.16799505e-04, 1.25909980e-01, 4.81744304e-04,\n",
       "        8.57671895e-03, 1.69735254e-03, 3.05292399e-04, 5.64097685e-04,\n",
       "        7.32186343e-01, 1.11834747e-01]])"
      ]
     },
     "execution_count": 29,
     "metadata": {},
     "output_type": "execute_result"
    }
   ],
   "source": [
    "print(f'Predicted class: {chosen_class}')\n",
    "print('All probability:')\n",
    "softmax_results"
   ]
  },
  {
   "cell_type": "code",
   "execution_count": null,
   "metadata": {
    "pycharm": {
     "name": "#%%\n"
    }
   },
   "outputs": [],
   "source": []
  },
  {
   "cell_type": "markdown",
   "metadata": {
    "pycharm": {
     "name": "#%% md\n"
    }
   },
   "source": [
    "Set of functions for achieving backpropagation of error to affect the convolutional filter (kernel) structure"
   ]
  },
  {
   "cell_type": "code",
   "execution_count": 4,
   "metadata": {
    "pycharm": {
     "name": "#%%\n"
    }
   },
   "outputs": [],
   "source": [
    "def relu_fn(x):\n",
    "    return max(0, x)\n",
    "\n",
    "\n",
    "relu = np.vectorize(relu_fn)\n",
    "\n",
    "\n",
    "def relu_layer(feature_maps):\n",
    "    # apply ReLu on 1 image with n feature maps\n",
    "    return [relu(feature_map.flatten()).reshape(feature_map.shape) for feature_map in feature_maps]\n",
    "\n",
    "\n",
    "def relu_derivative_fn(x):\n",
    "    return 1 if x > 0 else 0\n",
    "\n",
    "\n",
    "relu_derivative = np.vectorize(relu_derivative_fn)\n",
    "\n",
    "\n",
    "def relu_derivative_layer(feature_maps):\n",
    "    # apply ReLu on 1 image with n feature maps\n",
    "    return [relu_derivative(feature_map.flatten()).reshape(feature_map.shape) for feature_map in feature_maps]\n",
    "\n",
    "\n",
    "def softmax(input_activations):\n",
    "    # here we apply the softmax activation function within the output layer of the neural network\n",
    "    numerator = np.exp(input_activations)\n",
    "    denominator = np.sum(numerator)\n",
    "    softmax_output = numerator/denominator\n",
    "    return softmax_output\n",
    "\n",
    "\n",
    "def softmax_derivative(softmax_output):\n",
    "    # here we apply the derivative of softmax function\n",
    "    dS = softmax_output[0] * np.sum(softmax_output[1:])\n",
    "    dX = np.sum(softmax_output)**2\n",
    "    return dS/dX\n",
    "\n",
    "\n",
    "def loss_cross_entropy(y, yhat):\n",
    "    # someSoftmax = np.array([0.7, 0.1, 0.2])\n",
    "    # y = np.array([1,0,0])\n",
    "    # loss_cross_entropy(y, someSoftmax)\n",
    "    return -(y*np.log(yhat))\n",
    "\n",
    "# TODO\n",
    "def loss_cross_entropy_derivative(y, yhat):\n",
    "    return -(y*np.log(yhat))\n"
   ]
  },
  {
   "cell_type": "code",
   "execution_count": 69,
   "metadata": {
    "pycharm": {
     "name": "#%%\n"
    }
   },
   "outputs": [],
   "source": [
    "class Layer:\n",
    "    def __init__(self):\n",
    "        self.input = None\n",
    "        self.output = None\n",
    "\n",
    "    # computes feed forward\n",
    "    def forward_propagation(self, input):\n",
    "        raise NotImplementedError\n",
    "\n",
    "    # computes dE/dX for a given dE/dY\n",
    "    def backward_propagation(self, output_error, learning_rate):\n",
    "        raise NotImplementedError\n",
    "\n",
    "    def print_dimension(self):\n",
    "        raise NotImplementedError\n",
    "\n",
    "\n",
    "class ConvolutionLayer(Layer):\n",
    "    def __init__(self, n_filters, kernel_size, activation, activation_prime):\n",
    "        super().__init__()\n",
    "        self.n_filters = n_filters\n",
    "        self.kernel_size = kernel_size\n",
    "        self.activation = activation\n",
    "        self.activation_prime_func = activation_prime\n",
    "        self.filters = [np.random.rand(kernel_size[0], kernel_size[1]) for _ in range(0, n_filters)]\n",
    "\n",
    "\n",
    "    def conv_multi(self, source_pixels, filter_pixels):\n",
    "        # apply multiplication stuff incl. sum\n",
    "        return np.sum(np.multiply(source_pixels, filter_pixels))\n",
    "\n",
    "\n",
    "    def convolution_operation(self, image):\n",
    "        # apply convolution operation to 1 image with n filters and n filter size (aka kernel size)\n",
    "        if self.filters is None:\n",
    "            print('Please apply number of filters')\n",
    "            return\n",
    "\n",
    "        input_shape = image.shape\n",
    "\n",
    "        filter_output_size = input_shape[0]-self.kernel_size[0]+1\n",
    "\n",
    "        depth = input_shape[-1] if len(input_shape) > 2 else 1\n",
    "        boundary = self.kernel_size[0]\n",
    "\n",
    "        feature_maps = []\n",
    "\n",
    "        for filter_idx in range(0, len(self.filters)):\n",
    "            filter_pixels = self.filters[filter_idx]\n",
    "            feature_map = np.zeros((filter_output_size, filter_output_size))\n",
    "\n",
    "            for zy in range(0, filter_output_size):\n",
    "                for zx in range(0, filter_output_size):\n",
    "                    source_pixels = 0\n",
    "                    result = 0\n",
    "\n",
    "                    if depth > 1:\n",
    "                        colors = []\n",
    "                        for z in range(0, depth):\n",
    "                            source_pixels = image[zy:boundary+zy, zx:boundary+zx, z]\n",
    "                            color_output = self.conv_multi(source_pixels, filter_pixels)\n",
    "                            colors.append(color_output)\n",
    "                        result = sum(colors)\n",
    "                    else:\n",
    "                        source_pixels = image[zy:boundary+zy, zx:boundary+zx]\n",
    "                        result = self.conv_multi(source_pixels, filter_pixels)\n",
    "\n",
    "                    feature_map[zy, zx] = result\n",
    "\n",
    "            feature_maps.append(feature_map)\n",
    "\n",
    "        return feature_maps\n",
    "\n",
    "    def convolution_layer(self, image):\n",
    "        depth = image.shape[-1] > 4\n",
    "        feature_maps = []\n",
    "\n",
    "        if depth:\n",
    "            for feature_map in image:\n",
    "                tmp_feature_maps = self.convolution_operation(feature_map)\n",
    "                feature_maps += tmp_feature_maps\n",
    "        else:\n",
    "            feature_maps = self.convolution_operation(image)\n",
    "\n",
    "        return np.array(feature_maps)\n",
    "\n",
    "    def normalisation(self, feature_maps):\n",
    "        # apply normalisation on 1 image with n feature maps\n",
    "        normalisation_maps = []\n",
    "\n",
    "        for feature_map in feature_maps:\n",
    "            tmp = feature_map - feature_map.mean()\n",
    "            normalised_map = tmp / feature_map.std()\n",
    "            normalisation_maps.append(normalised_map)\n",
    "\n",
    "        return np.array(normalisation_maps)\n",
    "\n",
    "\n",
    "    # computes feed forward\n",
    "    def forward_propagation(self, input):\n",
    "        self.input = input\n",
    "        self.feature_maps = self.convolution_layer(self.input) #z\n",
    "        self.a = self.activation(self.feature_maps) #a\n",
    "        self.normalised = self.normalisation(self.a) #n\n",
    "        return self.normalised\n",
    "\n",
    "\n",
    "    # computes dE/dX for a given dE/dY\n",
    "    def backward_propagation(self, output_error, learning_rate):\n",
    "        delta_per_activation = self.activation_prime_func(self.a) * output_error #back-propagation error, relu * error\n",
    "        delta_per_feature = [np.dot(feature_map, err) for feature_map, err in zip(self.feature_maps, delta_per_activation)] #back-propagation error, feature map * error\n",
    "\n",
    "        input_errors = [np.dot(weight_filter, err) for weight_filter, err in zip(self.filters, delta_per_feature)] #back-propagation error, filter * error and becomes the input error for L-1\n",
    "\n",
    "        self.filters = [np.min(filter, err) for filter, err in zip(self.filters, input_errors)] # tune the current weights\n",
    "\n",
    "        return input_errors # error for L-1\n",
    "\n",
    "\n",
    "    def print_dimension(self):\n",
    "        return f'convolution layer: {self.kernel_size}'\n",
    "\n",
    "\n",
    "class Flatten(Layer):\n",
    "    def __init__(self):\n",
    "        super().__init__()\n",
    "\n",
    "    def forward_propagation(self, feature_maps):\n",
    "        self.input = feature_maps\n",
    "        # self.output = np.array([feature_maps.flatten() for feature_maps in self.input])\n",
    "        self.output = self.input.flatten()\n",
    "        return self.output\n",
    "\n",
    "    def backward_propagation(self, output_error, learning_rate):\n",
    "        # because it is only flattening we can pass the error to L-1\n",
    "        return output_error\n",
    "\n",
    "\n",
    "    def print_dimension(self):\n",
    "        return f'flatten: unknown'\n",
    "\n",
    "\n",
    "class FullyConnect(Layer):\n",
    "    state = True\n",
    "\n",
    "    def __init__(self, output_size, activation_func, activation_prime_func):\n",
    "        super().__init__()\n",
    "        self.output_size = output_size\n",
    "        self.activation_func = activation_func\n",
    "        self.activation_prime_func = activation_prime_func\n",
    "\n",
    "\n",
    "    def init_weights_bias(self, flattened_input):\n",
    "        self.weights = np.random.rand(len(flattened_input), self.output_size) - 0.5\n",
    "        self.bias = np.random.rand(1, self.output_size) - 0.5\n",
    "\n",
    "    def forward_propagation(self, flattened_input):\n",
    "\n",
    "        if self.state:\n",
    "            self.init_weights_bias(flattened_input)\n",
    "            self.state = False\n",
    "\n",
    "        self.input = flattened_input\n",
    "        self.z = np.dot(self.input, self.weights) + self.bias\n",
    "        self.a = self.activation_func(self.z)\n",
    "        return self.a\n",
    "\n",
    "\n",
    "    def back_propagation(self, output_error, learning_rate):\n",
    "        delta = self.activation_prime_func(self.a) * output_error #back-propagation error\n",
    "        input_error = np.dot(delta, self.weights.T) #back-propagation error for the previous input, L-1\n",
    "        weights_error = np.dot(self.input, delta) #dJdW\n",
    "\n",
    "        self.weights -= weights_error * learning_rate\n",
    "        self.bias -= delta * learning_rate\n",
    "\n",
    "        return input_error\n",
    "\n",
    "\n",
    "    def print_dimension(self):\n",
    "        return f'output dense: {self.output_size}'\n",
    "\n",
    "\n",
    "class DCNNetwork:\n",
    "    def __init__(self):\n",
    "        self.layers = []\n",
    "\n",
    "\n",
    "    def add_layer(self, layer):\n",
    "        self.layers.append(layer)\n",
    "\n",
    "\n",
    "    def compile(self, loss_function, loss_function_prime, learning_rate):\n",
    "        self.loss_function = loss_function\n",
    "        self.loss_function_prime = loss_function_prime\n",
    "        self.learning_rate = learning_rate\n",
    "\n",
    "        [print(layer.print_dimension()) for layer in self.layers]\n",
    "\n",
    "\n",
    "    def fit(self, x_train, y_train, epochs):\n",
    "\n",
    "        L = len(x_train)\n",
    "\n",
    "        for e in range(epochs):\n",
    "\n",
    "            err = 0\n",
    "\n",
    "            for j in range(L):\n",
    "\n",
    "                output = x_train[j]\n",
    "\n",
    "                for layer in self.layers:\n",
    "                    output = layer.forward_propagation(output)\n",
    "\n",
    "                err = self.loss_function(y_train[j], output)\n",
    "                error = self.loss_function_prime(y_train[j], output)\n",
    "\n",
    "                for back_layer in reversed(self.layers):\n",
    "                    error = back_layer.back_propagation(error, self.learning_rate)\n",
    "\n",
    "            print(f'epoch: {e} \\t error={err}')"
   ]
  },
  {
   "cell_type": "code",
   "execution_count": 73,
   "outputs": [],
   "source": [
    "(x_train, y_train), (x_test, y_test) = keras.datasets.cifar10.load_data()\n",
    "\n",
    "x_train = x_train.astype(\"float32\") / 255\n",
    "x_test = x_test.astype(\"float32\") / 255\n",
    "\n",
    "test_image = x_test[0]"
   ],
   "metadata": {
    "collapsed": false,
    "pycharm": {
     "name": "#%%\n"
    }
   }
  },
  {
   "cell_type": "code",
   "execution_count": 74,
   "outputs": [],
   "source": [
    "colly1 = ConvolutionLayer(n_filters=32, kernel_size=(3, 3), activation=relu_layer, activation_prime=relu_derivative)\n",
    "propagated1 = colly1.forward_propagation(test_image)"
   ],
   "metadata": {
    "collapsed": false,
    "pycharm": {
     "name": "#%%\n"
    }
   }
  },
  {
   "cell_type": "code",
   "execution_count": 75,
   "outputs": [
    {
     "data": {
      "text/plain": "<Figure size 864x360 with 3 Axes>",
      "image/png": "[encoded data removed]"
     },
     "metadata": {
      "needs_background": "light"
     },
     "output_type": "display_data"
    }
   ],
   "source": [
    "images = [propagated1[0], propagated1[2], test_image]\n",
    "plot_process_step_image(images, 'Convolution operation', (12, 5))"
   ],
   "metadata": {
    "collapsed": false,
    "pycharm": {
     "name": "#%%\n"
    }
   }
  },
  {
   "cell_type": "markdown",
   "metadata": {
    "pycharm": {
     "name": "#%% md\n"
    }
   },
   "source": [
    "Implementation of Convolutional neural network with two convolutional layers, a fully connected layer, and an output layer (pooling, thresholding and normalisation)"
   ]
  },
  {
   "cell_type": "code",
   "execution_count": 39,
   "outputs": [
    {
     "name": "stdout",
     "output_type": "stream",
     "text": [
      "convolution layer: (3, 3)\n",
      "convolution layer: (3, 3)\n",
      "flatten: unknown\n",
      "output dense: 128\n",
      "output dense: 10\n"
     ]
    }
   ],
   "source": [
    "model = DCNNetwork()\n",
    "\n",
    "model.add_layer(ConvolutionLayer(n_filters=32, kernel_size=(3, 3), activation=relu_layer, activation_prime=relu_derivative))\n",
    "model.add_layer(ConvolutionLayer(n_filters=32, kernel_size=(3, 3), activation=relu_layer, activation_prime=relu_derivative))\n",
    "\n",
    "model.add_layer(Flatten())\n",
    "\n",
    "model.add_layer(FullyConnect(128, relu, relu_derivative))\n",
    "model.add_layer(FullyConnect(10, softmax, softmax_derivative))\n",
    "\n",
    "model.compile(loss_cross_entropy, loss_cross_entropy_derivative, learning_rate=0.1)\n"
   ],
   "metadata": {
    "collapsed": false,
    "pycharm": {
     "name": "#%%\n"
    }
   }
  },
  {
   "cell_type": "code",
   "execution_count": null,
   "outputs": [],
   "source": [
    "model.fit(x_train, y_train)"
   ],
   "metadata": {
    "collapsed": false,
    "pycharm": {
     "name": "#%%\n"
    }
   }
  },
  {
   "cell_type": "code",
   "execution_count": null,
   "outputs": [],
   "source": [],
   "metadata": {
    "collapsed": false,
    "pycharm": {
     "name": "#%%\n"
    }
   }
  }
 ],
 "metadata": {
  "kernelspec": {
   "display_name": "Python 3 (ipykernel)",
   "language": "python",
   "name": "python3"
  },
  "language_info": {
   "codemirror_mode": {
    "name": "ipython",
    "version": 3
   },
   "file_extension": ".py",
   "mimetype": "text/x-python",
   "name": "python",
   "nbconvert_exporter": "python",
   "pygments_lexer": "ipython3",
   "version": "3.8.12"
  }
 },
 "nbformat": 4,
 "nbformat_minor": 1
}